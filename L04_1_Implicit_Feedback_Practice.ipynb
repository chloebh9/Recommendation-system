{
  "nbformat": 4,
  "nbformat_minor": 0,
  "metadata": {
    "colab": {
      "provenance": [],
      "authorship_tag": "ABX9TyOM+J0nQB/g3Tz5j15xi0aX",
      "include_colab_link": true
    },
    "kernelspec": {
      "name": "python3",
      "display_name": "Python 3"
    },
    "language_info": {
      "name": "python"
    },
    "widgets": {
      "application/vnd.jupyter.widget-state+json": {
        "efef31cd4f264315862bad1d0862c36d": {
          "model_module": "@jupyter-widgets/controls",
          "model_name": "HBoxModel",
          "model_module_version": "1.5.0",
          "state": {
            "_dom_classes": [],
            "_model_module": "@jupyter-widgets/controls",
            "_model_module_version": "1.5.0",
            "_model_name": "HBoxModel",
            "_view_count": null,
            "_view_module": "@jupyter-widgets/controls",
            "_view_module_version": "1.5.0",
            "_view_name": "HBoxView",
            "box_style": "",
            "children": [
              "IPY_MODEL_8c45fe9a11b24f0490097594b4317ba0",
              "IPY_MODEL_f0be24ab57b9404d905dcf950b7336cc",
              "IPY_MODEL_6be7f7954f9a4990941ed300cd7674d3"
            ],
            "layout": "IPY_MODEL_567ace15371343299eac6c59f1d0e350"
          }
        },
        "8c45fe9a11b24f0490097594b4317ba0": {
          "model_module": "@jupyter-widgets/controls",
          "model_name": "HTMLModel",
          "model_module_version": "1.5.0",
          "state": {
            "_dom_classes": [],
            "_model_module": "@jupyter-widgets/controls",
            "_model_module_version": "1.5.0",
            "_model_name": "HTMLModel",
            "_view_count": null,
            "_view_module": "@jupyter-widgets/controls",
            "_view_module_version": "1.5.0",
            "_view_name": "HTMLView",
            "description": "",
            "description_tooltip": null,
            "layout": "IPY_MODEL_b67dda5f961b4005875f9fd1ce564756",
            "placeholder": "​",
            "style": "IPY_MODEL_c20c3a7a53df4d14a3f9b581e7ac6c97",
            "value": "100%"
          }
        },
        "f0be24ab57b9404d905dcf950b7336cc": {
          "model_module": "@jupyter-widgets/controls",
          "model_name": "FloatProgressModel",
          "model_module_version": "1.5.0",
          "state": {
            "_dom_classes": [],
            "_model_module": "@jupyter-widgets/controls",
            "_model_module_version": "1.5.0",
            "_model_name": "FloatProgressModel",
            "_view_count": null,
            "_view_module": "@jupyter-widgets/controls",
            "_view_module_version": "1.5.0",
            "_view_name": "ProgressView",
            "bar_style": "success",
            "description": "",
            "description_tooltip": null,
            "layout": "IPY_MODEL_983770eab7c24279b04ca3ae3b1b9d41",
            "max": 100,
            "min": 0,
            "orientation": "horizontal",
            "style": "IPY_MODEL_d5fb02f4e80643748f128f2d8704f1de",
            "value": 100
          }
        },
        "6be7f7954f9a4990941ed300cd7674d3": {
          "model_module": "@jupyter-widgets/controls",
          "model_name": "HTMLModel",
          "model_module_version": "1.5.0",
          "state": {
            "_dom_classes": [],
            "_model_module": "@jupyter-widgets/controls",
            "_model_module_version": "1.5.0",
            "_model_name": "HTMLModel",
            "_view_count": null,
            "_view_module": "@jupyter-widgets/controls",
            "_view_module_version": "1.5.0",
            "_view_name": "HTMLView",
            "description": "",
            "description_tooltip": null,
            "layout": "IPY_MODEL_cf04ecb099f64488aa6c62136405c8eb",
            "placeholder": "​",
            "style": "IPY_MODEL_e3b43d74bb954733ab0933d8d1a91ae5",
            "value": " 100/100 [00:07&lt;00:00, 19.85it/s, train_auc=90.05%, skipped=24.60%]"
          }
        },
        "567ace15371343299eac6c59f1d0e350": {
          "model_module": "@jupyter-widgets/base",
          "model_name": "LayoutModel",
          "model_module_version": "1.2.0",
          "state": {
            "_model_module": "@jupyter-widgets/base",
            "_model_module_version": "1.2.0",
            "_model_name": "LayoutModel",
            "_view_count": null,
            "_view_module": "@jupyter-widgets/base",
            "_view_module_version": "1.2.0",
            "_view_name": "LayoutView",
            "align_content": null,
            "align_items": null,
            "align_self": null,
            "border": null,
            "bottom": null,
            "display": null,
            "flex": null,
            "flex_flow": null,
            "grid_area": null,
            "grid_auto_columns": null,
            "grid_auto_flow": null,
            "grid_auto_rows": null,
            "grid_column": null,
            "grid_gap": null,
            "grid_row": null,
            "grid_template_areas": null,
            "grid_template_columns": null,
            "grid_template_rows": null,
            "height": null,
            "justify_content": null,
            "justify_items": null,
            "left": null,
            "margin": null,
            "max_height": null,
            "max_width": null,
            "min_height": null,
            "min_width": null,
            "object_fit": null,
            "object_position": null,
            "order": null,
            "overflow": null,
            "overflow_x": null,
            "overflow_y": null,
            "padding": null,
            "right": null,
            "top": null,
            "visibility": null,
            "width": null
          }
        },
        "b67dda5f961b4005875f9fd1ce564756": {
          "model_module": "@jupyter-widgets/base",
          "model_name": "LayoutModel",
          "model_module_version": "1.2.0",
          "state": {
            "_model_module": "@jupyter-widgets/base",
            "_model_module_version": "1.2.0",
            "_model_name": "LayoutModel",
            "_view_count": null,
            "_view_module": "@jupyter-widgets/base",
            "_view_module_version": "1.2.0",
            "_view_name": "LayoutView",
            "align_content": null,
            "align_items": null,
            "align_self": null,
            "border": null,
            "bottom": null,
            "display": null,
            "flex": null,
            "flex_flow": null,
            "grid_area": null,
            "grid_auto_columns": null,
            "grid_auto_flow": null,
            "grid_auto_rows": null,
            "grid_column": null,
            "grid_gap": null,
            "grid_row": null,
            "grid_template_areas": null,
            "grid_template_columns": null,
            "grid_template_rows": null,
            "height": null,
            "justify_content": null,
            "justify_items": null,
            "left": null,
            "margin": null,
            "max_height": null,
            "max_width": null,
            "min_height": null,
            "min_width": null,
            "object_fit": null,
            "object_position": null,
            "order": null,
            "overflow": null,
            "overflow_x": null,
            "overflow_y": null,
            "padding": null,
            "right": null,
            "top": null,
            "visibility": null,
            "width": null
          }
        },
        "c20c3a7a53df4d14a3f9b581e7ac6c97": {
          "model_module": "@jupyter-widgets/controls",
          "model_name": "DescriptionStyleModel",
          "model_module_version": "1.5.0",
          "state": {
            "_model_module": "@jupyter-widgets/controls",
            "_model_module_version": "1.5.0",
            "_model_name": "DescriptionStyleModel",
            "_view_count": null,
            "_view_module": "@jupyter-widgets/base",
            "_view_module_version": "1.2.0",
            "_view_name": "StyleView",
            "description_width": ""
          }
        },
        "983770eab7c24279b04ca3ae3b1b9d41": {
          "model_module": "@jupyter-widgets/base",
          "model_name": "LayoutModel",
          "model_module_version": "1.2.0",
          "state": {
            "_model_module": "@jupyter-widgets/base",
            "_model_module_version": "1.2.0",
            "_model_name": "LayoutModel",
            "_view_count": null,
            "_view_module": "@jupyter-widgets/base",
            "_view_module_version": "1.2.0",
            "_view_name": "LayoutView",
            "align_content": null,
            "align_items": null,
            "align_self": null,
            "border": null,
            "bottom": null,
            "display": null,
            "flex": null,
            "flex_flow": null,
            "grid_area": null,
            "grid_auto_columns": null,
            "grid_auto_flow": null,
            "grid_auto_rows": null,
            "grid_column": null,
            "grid_gap": null,
            "grid_row": null,
            "grid_template_areas": null,
            "grid_template_columns": null,
            "grid_template_rows": null,
            "height": null,
            "justify_content": null,
            "justify_items": null,
            "left": null,
            "margin": null,
            "max_height": null,
            "max_width": null,
            "min_height": null,
            "min_width": null,
            "object_fit": null,
            "object_position": null,
            "order": null,
            "overflow": null,
            "overflow_x": null,
            "overflow_y": null,
            "padding": null,
            "right": null,
            "top": null,
            "visibility": null,
            "width": null
          }
        },
        "d5fb02f4e80643748f128f2d8704f1de": {
          "model_module": "@jupyter-widgets/controls",
          "model_name": "ProgressStyleModel",
          "model_module_version": "1.5.0",
          "state": {
            "_model_module": "@jupyter-widgets/controls",
            "_model_module_version": "1.5.0",
            "_model_name": "ProgressStyleModel",
            "_view_count": null,
            "_view_module": "@jupyter-widgets/base",
            "_view_module_version": "1.2.0",
            "_view_name": "StyleView",
            "bar_color": null,
            "description_width": ""
          }
        },
        "cf04ecb099f64488aa6c62136405c8eb": {
          "model_module": "@jupyter-widgets/base",
          "model_name": "LayoutModel",
          "model_module_version": "1.2.0",
          "state": {
            "_model_module": "@jupyter-widgets/base",
            "_model_module_version": "1.2.0",
            "_model_name": "LayoutModel",
            "_view_count": null,
            "_view_module": "@jupyter-widgets/base",
            "_view_module_version": "1.2.0",
            "_view_name": "LayoutView",
            "align_content": null,
            "align_items": null,
            "align_self": null,
            "border": null,
            "bottom": null,
            "display": null,
            "flex": null,
            "flex_flow": null,
            "grid_area": null,
            "grid_auto_columns": null,
            "grid_auto_flow": null,
            "grid_auto_rows": null,
            "grid_column": null,
            "grid_gap": null,
            "grid_row": null,
            "grid_template_areas": null,
            "grid_template_columns": null,
            "grid_template_rows": null,
            "height": null,
            "justify_content": null,
            "justify_items": null,
            "left": null,
            "margin": null,
            "max_height": null,
            "max_width": null,
            "min_height": null,
            "min_width": null,
            "object_fit": null,
            "object_position": null,
            "order": null,
            "overflow": null,
            "overflow_x": null,
            "overflow_y": null,
            "padding": null,
            "right": null,
            "top": null,
            "visibility": null,
            "width": null
          }
        },
        "e3b43d74bb954733ab0933d8d1a91ae5": {
          "model_module": "@jupyter-widgets/controls",
          "model_name": "DescriptionStyleModel",
          "model_module_version": "1.5.0",
          "state": {
            "_model_module": "@jupyter-widgets/controls",
            "_model_module_version": "1.5.0",
            "_model_name": "DescriptionStyleModel",
            "_view_count": null,
            "_view_module": "@jupyter-widgets/base",
            "_view_module_version": "1.2.0",
            "_view_name": "StyleView",
            "description_width": ""
          }
        }
      }
    }
  },
  "cells": [
    {
      "cell_type": "markdown",
      "metadata": {
        "id": "view-in-github",
        "colab_type": "text"
      },
      "source": [
        "<a href=\"https://colab.research.google.com/github/chloebh9/Recommendation-system/blob/main/L04_1_Implicit_Feedback_Practice.ipynb\" target=\"_parent\"><img src=\"https://colab.research.google.com/assets/colab-badge.svg\" alt=\"Open In Colab\"/></a>"
      ]
    },
    {
      "cell_type": "code",
      "execution_count": null,
      "metadata": {
        "colab": {
          "base_uri": "https://localhost:8080/"
        },
        "id": "8M90gEc-RUUF",
        "outputId": "22cfcfa0-57ee-4ee8-e3eb-bf12103b10e3"
      },
      "outputs": [
        {
          "output_type": "stream",
          "name": "stdout",
          "text": [
            "Collecting implicit\n",
            "  Downloading implicit-0.7.2-cp310-cp310-manylinux2014_x86_64.whl (8.9 MB)\n",
            "\u001b[2K     \u001b[90m━━━━━━━━━━━━━━━━━━━━━━━━━━━━━━━━━━━━━━━━\u001b[0m \u001b[32m8.9/8.9 MB\u001b[0m \u001b[31m43.6 MB/s\u001b[0m eta \u001b[36m0:00:00\u001b[0m\n",
            "\u001b[?25hRequirement already satisfied: numpy>=1.17.0 in /usr/local/lib/python3.10/dist-packages (from implicit) (1.25.2)\n",
            "Requirement already satisfied: scipy>=0.16 in /usr/local/lib/python3.10/dist-packages (from implicit) (1.11.4)\n",
            "Requirement already satisfied: tqdm>=4.27 in /usr/local/lib/python3.10/dist-packages (from implicit) (4.66.2)\n",
            "Requirement already satisfied: threadpoolctl in /usr/local/lib/python3.10/dist-packages (from implicit) (3.4.0)\n",
            "Installing collected packages: implicit\n",
            "Successfully installed implicit-0.7.2\n"
          ]
        }
      ],
      "source": [
        "!pip install implicit"
      ]
    },
    {
      "cell_type": "code",
      "source": [
        "!wget https://files.grouplens.org/datasets/movielens/ml-latest-small.zip\n",
        "!unzip ml-latest-small.zip"
      ],
      "metadata": {
        "colab": {
          "base_uri": "https://localhost:8080/"
        },
        "id": "nV2N1uVWFJ6T",
        "outputId": "0c6f4a68-c805-4a54-f95d-da1da7c083d7"
      },
      "execution_count": null,
      "outputs": [
        {
          "output_type": "stream",
          "name": "stdout",
          "text": [
            "--2024-04-12 13:30:36--  https://files.grouplens.org/datasets/movielens/ml-latest-small.zip\n",
            "Resolving files.grouplens.org (files.grouplens.org)... 128.101.65.152\n",
            "Connecting to files.grouplens.org (files.grouplens.org)|128.101.65.152|:443... connected.\n",
            "HTTP request sent, awaiting response... 200 OK\n",
            "Length: 978202 (955K) [application/zip]\n",
            "Saving to: ‘ml-latest-small.zip’\n",
            "\n",
            "ml-latest-small.zip 100%[===================>] 955.28K  --.-KB/s    in 0.1s    \n",
            "\n",
            "2024-04-12 13:30:36 (6.57 MB/s) - ‘ml-latest-small.zip’ saved [978202/978202]\n",
            "\n",
            "Archive:  ml-latest-small.zip\n",
            "   creating: ml-latest-small/\n",
            "  inflating: ml-latest-small/links.csv  \n",
            "  inflating: ml-latest-small/tags.csv  \n",
            "  inflating: ml-latest-small/ratings.csv  \n",
            "  inflating: ml-latest-small/README.txt  \n",
            "  inflating: ml-latest-small/movies.csv  \n"
          ]
        }
      ]
    },
    {
      "cell_type": "code",
      "source": [
        "import numpy as np\n",
        "from scipy.sparse import csr_matrix\n",
        "\n",
        "rows = []\n",
        "cols = []\n",
        "\n",
        "with open(\"ml-latest-small/ratings.csv\", \"r\") as f:\n",
        "    print(f.readline())\n",
        "    for line in f:\n",
        "        uid, mid, _, _ = line.split(\",\")\n",
        "        rows.append(int(uid))\n",
        "        cols.append(int(mid))\n",
        "\n",
        "rows = np.array(rows)\n",
        "cols = np.array(cols)\n",
        "data = np.array([1] * len(rows))\n",
        "\n",
        "ratings_csr = csr_matrix((data, (rows, cols)))"
      ],
      "metadata": {
        "colab": {
          "base_uri": "https://localhost:8080/"
        },
        "id": "xc0IHndMFhxH",
        "outputId": "dc9b120b-10cf-44e7-c0f0-811c34837521"
      },
      "execution_count": null,
      "outputs": [
        {
          "output_type": "stream",
          "name": "stdout",
          "text": [
            "userId,movieId,rating,timestamp\n",
            "\n"
          ]
        }
      ]
    },
    {
      "cell_type": "code",
      "source": [
        "from implicit import bpr\n",
        "\n",
        "# train\n",
        "model = bpr.BayesianPersonalizedRanking(factors = 10)\n",
        "model.fit(ratings_csr)\n",
        "\n",
        "# test\n",
        "users = [2, 3]\n",
        "ids, scores = model.recommend(users, ratings_csr[users])\n",
        "print(ids)\n",
        "print(scores)\n"
      ],
      "metadata": {
        "colab": {
          "base_uri": "https://localhost:8080/",
          "height": 158,
          "referenced_widgets": [
            "efef31cd4f264315862bad1d0862c36d",
            "8c45fe9a11b24f0490097594b4317ba0",
            "f0be24ab57b9404d905dcf950b7336cc",
            "6be7f7954f9a4990941ed300cd7674d3",
            "567ace15371343299eac6c59f1d0e350",
            "b67dda5f961b4005875f9fd1ce564756",
            "c20c3a7a53df4d14a3f9b581e7ac6c97",
            "983770eab7c24279b04ca3ae3b1b9d41",
            "d5fb02f4e80643748f128f2d8704f1de",
            "cf04ecb099f64488aa6c62136405c8eb",
            "e3b43d74bb954733ab0933d8d1a91ae5"
          ]
        },
        "id": "05zRsAb-FpSq",
        "outputId": "e3f4427c-3d0f-4e48-d9d0-48c1a1f4ef0b"
      },
      "execution_count": null,
      "outputs": [
        {
          "output_type": "display_data",
          "data": {
            "text/plain": [
              "  0%|          | 0/100 [00:00<?, ?it/s]"
            ],
            "application/vnd.jupyter.widget-view+json": {
              "version_major": 2,
              "version_minor": 0,
              "model_id": "efef31cd4f264315862bad1d0862c36d"
            }
          },
          "metadata": {}
        },
        {
          "output_type": "stream",
          "name": "stdout",
          "text": [
            "[[112556  68954 106920  80463 122904  84152 112852  59315 109374  72998]\n",
            " [  1081   1959    501   4713   3706   2366   2352   2243   2436   2926]]\n",
            "[[3.7234542 3.5628586 3.5373905 3.5190513 3.4725142 3.3585346 3.3403656\n",
            "  3.3343365 3.3256602 3.312197 ]\n",
            " [2.4529557 2.4329557 2.410814  2.3336844 2.293305  2.261212  2.23107\n",
            "  2.230677  2.213483  2.2097297]]\n"
          ]
        }
      ]
    },
    {
      "cell_type": "markdown",
      "source": [
        "# BPR with Pytorch"
      ],
      "metadata": {
        "id": "jX6PvvZtigqL"
      }
    },
    {
      "cell_type": "code",
      "source": [
        "import torch\n",
        "\n",
        "users = torch.from_numpy(rows)\n",
        "items = torch.from_numpy(cols)\n",
        "\n",
        "n_factors = 10\n",
        "n_items = max(items) + 1\n",
        "n_users = max(users) + 1\n",
        "\n",
        "item_bias = torch.randn(n_items, requires_grad=True)\n",
        "item_factor = torch.randn(n_items, n_factors, requires_grad=True)\n",
        "user_factor = torch.randn(n_users, n_factors, requires_grad=True)"
      ],
      "metadata": {
        "id": "JlEoSUXphjDA"
      },
      "execution_count": null,
      "outputs": []
    },
    {
      "cell_type": "code",
      "source": [
        "lmd = 0.01\n",
        "n_ratings = len(users)\n",
        "\n",
        "optim = torch.optim.Adam([item_bias, item_factor, user_factor], lr=0.1)\n",
        "\n",
        "logsigmoid = torch.nn.LogSigmoid()\n",
        "\n",
        "for epoch in range(100):\n",
        "\n",
        "    neg_items = torch.randint(1, n_items, (n_ratings,))\n",
        "\n",
        "    pos_score = item_bias[items] + (user_factor[users] * item_factor[items]).sum(dim=1)\n",
        "    neg_score = item_bias[neg_items] + (user_factor[users] * item_factor[neg_items]).sum(dim=1)\n",
        "    reg = (item_bias ** 2).sum() + (item_factor ** 2).sum() + (user_factor ** 2).sum()\n",
        "\n",
        "    cost = -logsigmoid(pos_score - neg_score).sum() + lmd * reg\n",
        "\n",
        "    optim.zero_grad()\n",
        "    cost.backward()\n",
        "    optim.step()\n",
        "\n",
        "    with torch.no_grad():\n",
        "        train_acc = sum(pos_score > neg_score) / n_ratings\n",
        "        print(f\"epoch: {epoch}, train accuracy: {train_acc.item()}, cost: {cost.item()}\")"
      ],
      "metadata": {
        "id": "3991y569irrs"
      },
      "execution_count": null,
      "outputs": []
    },
    {
      "cell_type": "code",
      "source": [
        "with torch.no_grad():\n",
        "\n",
        "    n_outputs = 10\n",
        "\n",
        "    uid = 2\n",
        "\n",
        "    scores_all = item_bias + (user_factor[uid] * item_factor).sum(dim=1)\n",
        "    scores_all = scores_all.numpy()\n",
        "\n",
        "    ids = np.argsort(scores_all)[::-1]\n",
        "    pure_ids = ids[np.isin(ids, items[users == uid], invert=True)]\n",
        "\n",
        "    pure_ids = pure_ids[:n_outputs]\n",
        "    scores = scores_all[pure_ids]\n",
        "\n",
        "    print(pure_ids)\n",
        "    print(scores)\n"
      ],
      "metadata": {
        "id": "Lcm5P6qAixJ3"
      },
      "execution_count": null,
      "outputs": []
    }
  ]
}