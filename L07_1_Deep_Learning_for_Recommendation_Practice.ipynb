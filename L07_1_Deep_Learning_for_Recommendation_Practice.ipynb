{
  "nbformat": 4,
  "nbformat_minor": 0,
  "metadata": {
    "colab": {
      "provenance": [],
      "gpuType": "T4",
      "authorship_tag": "ABX9TyNBOwZ12oaM7JQQYp7YiuIx",
      "include_colab_link": true
    },
    "kernelspec": {
      "name": "python3",
      "display_name": "Python 3"
    },
    "language_info": {
      "name": "python"
    },
    "accelerator": "GPU"
  },
  "cells": [
    {
      "cell_type": "markdown",
      "metadata": {
        "id": "view-in-github",
        "colab_type": "text"
      },
      "source": [
        "<a href=\"https://colab.research.google.com/github/chloebh9/Recommendation-system/blob/main/L07_1_Deep_Learning_for_Recommendation_Practice.ipynb\" target=\"_parent\"><img src=\"https://colab.research.google.com/assets/colab-badge.svg\" alt=\"Open In Colab\"/></a>"
      ]
    },
    {
      "cell_type": "code",
      "execution_count": null,
      "metadata": {
        "colab": {
          "base_uri": "https://localhost:8080/"
        },
        "id": "cNcxf6GmA6ZD",
        "outputId": "1fa27bfc-c9bf-4cc7-ad67-dbc9a607c5ac"
      },
      "outputs": [
        {
          "output_type": "stream",
          "name": "stdout",
          "text": [
            "cpu\n"
          ]
        }
      ],
      "source": [
        "import torch\n",
        "if torch.cuda.is_available():\n",
        "    device = torch.device('cuda')\n",
        "else:\n",
        "    device = torch.device('cpu')\n",
        "print(device)"
      ]
    },
    {
      "cell_type": "code",
      "source": [
        "!wget https://files.grouplens.org/datasets/movielens/ml-latest-small.zip\n",
        "!unzip ml-latest-small.zip"
      ],
      "metadata": {
        "colab": {
          "base_uri": "https://localhost:8080/"
        },
        "id": "IDscLuRdBT74",
        "outputId": "fd744c87-c047-4879-a394-985e49d87e3e"
      },
      "execution_count": null,
      "outputs": [
        {
          "output_type": "stream",
          "name": "stdout",
          "text": [
            "--2024-06-01 04:20:14--  https://files.grouplens.org/datasets/movielens/ml-latest-small.zip\n",
            "Resolving files.grouplens.org (files.grouplens.org)... 128.101.65.152\n",
            "Connecting to files.grouplens.org (files.grouplens.org)|128.101.65.152|:443... connected.\n",
            "HTTP request sent, awaiting response... 200 OK\n",
            "Length: 978202 (955K) [application/zip]\n",
            "Saving to: ‘ml-latest-small.zip’\n",
            "\n",
            "ml-latest-small.zip 100%[===================>] 955.28K  4.00MB/s    in 0.2s    \n",
            "\n",
            "2024-06-01 04:20:15 (4.00 MB/s) - ‘ml-latest-small.zip’ saved [978202/978202]\n",
            "\n",
            "Archive:  ml-latest-small.zip\n",
            "   creating: ml-latest-small/\n",
            "  inflating: ml-latest-small/links.csv  \n",
            "  inflating: ml-latest-small/tags.csv  \n",
            "  inflating: ml-latest-small/ratings.csv  \n",
            "  inflating: ml-latest-small/README.txt  \n",
            "  inflating: ml-latest-small/movies.csv  \n"
          ]
        }
      ]
    },
    {
      "cell_type": "code",
      "source": [
        "import torch\n",
        "\n",
        "users = []\n",
        "items = []\n",
        "ratings = []\n",
        "\n",
        "with open(\"ml-latest-small/ratings.csv\", \"r\") as f:\n",
        "    print(f.readline())\n",
        "\n",
        "    for line in f:\n",
        "        uid, mid, rating, _ = line.split(\",\")\n",
        "        users.append(int(uid))\n",
        "        items.append(int(mid))\n",
        "        ratings.append(float(rating))\n",
        "\n",
        "users = torch.tensor(users)\n",
        "items = torch.tensor(items)\n",
        "ratings = torch.tensor(ratings)"
      ],
      "metadata": {
        "colab": {
          "base_uri": "https://localhost:8080/"
        },
        "id": "TBQlqj5gBVdz",
        "outputId": "d63ceb83-c4f7-46bb-f682-a00e4f2a8fc8"
      },
      "execution_count": null,
      "outputs": [
        {
          "output_type": "stream",
          "name": "stdout",
          "text": [
            "userId,movieId,rating,timestamp\n",
            "\n"
          ]
        }
      ]
    },
    {
      "cell_type": "code",
      "source": [
        "print(users)\n",
        "print(items)\n",
        "print(ratings)"
      ],
      "metadata": {
        "colab": {
          "base_uri": "https://localhost:8080/"
        },
        "id": "QWc_M960CeiV",
        "outputId": "ff22b37a-283d-4c6e-f7d7-7a7d2ab1e656"
      },
      "execution_count": null,
      "outputs": [
        {
          "output_type": "stream",
          "name": "stdout",
          "text": [
            "tensor([  1,   1,   1,  ..., 610, 610, 610])\n",
            "tensor([     1,      3,      6,  ..., 168250, 168252, 170875])\n",
            "tensor([4., 4., 4.,  ..., 5., 5., 3.])\n"
          ]
        }
      ]
    },
    {
      "cell_type": "code",
      "source": [
        "shuffled_indices = torch.randperm(len(users))   #인덱스로 사용\n",
        "\n",
        "train_size = int(len(users) * 0.8)\n",
        "train_indices = shuffled_indices[:train_size]\n",
        "test_indices = shuffled_indices[train_size:]\n",
        "\n",
        "users_train = users[train_indices].to(device)\n",
        "items_train = items[train_indices].to(device)\n",
        "ratings_train = ratings[train_indices].to(device)\n",
        "\n",
        "users_test = users[test_indices].to(device)\n",
        "items_test = items[test_indices].to(device)\n",
        "ratings_test = ratings[test_indices].to(device)"
      ],
      "metadata": {
        "id": "-z3zfXJmB1oQ"
      },
      "execution_count": null,
      "outputs": []
    },
    {
      "cell_type": "markdown",
      "source": [
        "## Neural Collaborative Filtering"
      ],
      "metadata": {
        "id": "mzmWGQ5LB955"
      }
    },
    {
      "cell_type": "code",
      "source": [
        "import torch.nn as nn\n",
        "\n",
        "dropout_rate = 0.5\n",
        "n_factors = 10\n",
        "n_users = max(users) + 1\n",
        "n_items = max(items) + 1\n",
        "\n",
        "mean = ratings_train.mean()\n",
        "P = torch.randn(n_users, n_factors, requires_grad=True, device=device)\n",
        "Q = torch.randn(n_items, n_factors, requires_grad=True, device=device)\n",
        "\n",
        "model = nn.Sequential(\n",
        "    nn.Linear(n_factors * 2, 10),\n",
        "    nn.ReLU(),\n",
        "    nn.Dropout(dropout_rate),\n",
        "    nn.Linear(10, 5),\n",
        "    nn.ReLU(),\n",
        "    nn.Dropout(dropout_rate),\n",
        "    nn.Linear(5, 1)\n",
        ").to(device)"
      ],
      "metadata": {
        "id": "01ZOeUuHCAht"
      },
      "execution_count": null,
      "outputs": []
    },
    {
      "cell_type": "code",
      "source": [
        "mse = nn.MSELoss()\n",
        "\n",
        "optim = torch.optim.Adam(list(model.parameters()) + [P, Q], lr=0.1)\n",
        "\n",
        "for epoch in range(3001):\n",
        "    model.train()\n",
        "    x = torch.cat((P[users_train], Q[items_train]), dim=1)\n",
        "    h = model(x)\n",
        "\n",
        "    cost = mse(h, ratings_train.view(-1,1))\n",
        "\n",
        "    optim.zero_grad()\n",
        "    cost.backward()\n",
        "    optim.step()\n",
        "\n",
        "    with torch.no_grad():\n",
        "        if epoch % 100 == 0:\n",
        "            model.eval()\n",
        "\n",
        "            x_train = torch.cat((P[users_train], Q[items_train]), dim=1)\n",
        "            h_train = model(x_train)\n",
        "            train_cost = mse(h_train, ratings_train.view(-1,1))\n",
        "\n",
        "            x_test = torch.cat((P[users_test], Q[items_test]), dim=1)\n",
        "            h_test = model(x_test)\n",
        "            test_cost = mse(h_test, ratings_test.view(-1,1))\n",
        "\n",
        "            print(f\"epoch: {epoch}, train_mse: {train_cost.item()}, test_mse: {test_cost.item()}\")"
      ],
      "metadata": {
        "id": "6X9gR_TQCEHI"
      },
      "execution_count": null,
      "outputs": []
    },
    {
      "cell_type": "markdown",
      "source": [
        " ## AutoRec"
      ],
      "metadata": {
        "id": "yOkS9Ly6DBHX"
      }
    },
    {
      "cell_type": "code",
      "source": [
        "rating_matrix_train = torch.zeros(n_users, n_items)\n",
        "for uid, mid, rating in zip(users_train, items_train, ratings_train):\n",
        "    rating_matrix_train[uid, mid] = rating\n",
        "rating_matrix_train = rating_matrix_train.to(device)\n",
        "\n",
        "rating_matrix_test = torch.zeros(n_users, n_items)\n",
        "for uid, mid, rating in zip(users_test, items_test, ratings_test):\n",
        "    rating_matrix_test[uid, mid] = rating\n",
        "rating_matrix_test = rating_matrix_test.to(device)"
      ],
      "metadata": {
        "id": "KbSqkSXVDCfj"
      },
      "execution_count": null,
      "outputs": []
    },
    {
      "cell_type": "code",
      "source": [
        "import torch.nn as nn\n",
        "\n",
        "n_factors = 500\n",
        "\n",
        "model = nn.Sequential(\n",
        "    nn.Linear(n_users, n_factors),\n",
        "    nn.Sigmoid(),\n",
        "    nn.Linear(n_factors, n_users)\n",
        ").to(device)"
      ],
      "metadata": {
        "id": "9HW-Z3udVoSg"
      },
      "execution_count": null,
      "outputs": []
    },
    {
      "cell_type": "code",
      "source": [
        "optim = torch.optim.Adam(model.parameters(), lr=0.01, weight_decay=0.001)\n",
        "\n",
        "mse = nn.MSELoss()\n",
        "\n",
        "non_zeros_train = rating_matrix_train != 0\n",
        "non_zeros_test = rating_matrix_test != 0\n",
        "\n",
        "for epoch in range(1001):\n",
        "    h = model(rating_matrix_train.T)\n",
        "    cost = mse(h.T[non_zeros_train], rating_matrix_train[non_zeros_train])\n",
        "    optim.zero_grad()\n",
        "    cost.backward()\n",
        "    optim.step()\n",
        "\n",
        "    with torch.no_grad():\n",
        "        if epoch % 10 == 0:\n",
        "            h_train = model(rating_matrix_train.T)\n",
        "            train_mse = mse(h_train.T[non_zeros_train], rating_matrix_train[non_zeros_train])\n",
        "            h_test = model(rating_matrix_test.T)\n",
        "            test_mse = mse(h_test.T[non_zeros_test], rating_matrix_test[non_zeros_test])\n",
        "\n",
        "            print(f\"epoch: {epoch}, train_mse: {train_mse.item()}, test_mse: {test_mse.item()}\")"
      ],
      "metadata": {
        "id": "skmao46TVrBz"
      },
      "execution_count": null,
      "outputs": []
    },
    {
      "cell_type": "code",
      "source": [],
      "metadata": {
        "id": "_1zUO7vdVrAI"
      },
      "execution_count": null,
      "outputs": []
    }
  ]
}