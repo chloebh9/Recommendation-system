{
  "nbformat": 4,
  "nbformat_minor": 0,
  "metadata": {
    "colab": {
      "provenance": [],
      "authorship_tag": "ABX9TyNKjYreoFnwiR2F3TVvLO9S",
      "include_colab_link": true
    },
    "kernelspec": {
      "name": "python3",
      "display_name": "Python 3"
    },
    "language_info": {
      "name": "python"
    }
  },
  "cells": [
    {
      "cell_type": "markdown",
      "metadata": {
        "id": "view-in-github",
        "colab_type": "text"
      },
      "source": [
        "<a href=\"https://colab.research.google.com/github/chloebh9/Recommendation-system/blob/main/L05_1_User_free_Models_Practice.ipynb\" target=\"_parent\"><img src=\"https://colab.research.google.com/assets/colab-badge.svg\" alt=\"Open In Colab\"/></a>"
      ]
    },
    {
      "cell_type": "code",
      "execution_count": null,
      "metadata": {
        "colab": {
          "base_uri": "https://localhost:8080/"
        },
        "id": "ok1GvGrYIPEp",
        "outputId": "5cf519d6-76d7-4885-e524-ac06f93bce1f"
      },
      "outputs": [
        {
          "output_type": "stream",
          "name": "stdout",
          "text": [
            "--2024-04-13 01:46:15--  https://files.grouplens.org/datasets/hetrec2011/hetrec2011-lastfm-2k.zip\n",
            "Resolving files.grouplens.org (files.grouplens.org)... 128.101.65.152\n",
            "Connecting to files.grouplens.org (files.grouplens.org)|128.101.65.152|:443... connected.\n",
            "HTTP request sent, awaiting response... 200 OK\n",
            "Length: 2589075 (2.5M) [application/zip]\n",
            "Saving to: ‘hetrec2011-lastfm-2k.zip’\n",
            "\n",
            "hetrec2011-lastfm-2 100%[===================>]   2.47M  10.1MB/s    in 0.2s    \n",
            "\n",
            "2024-04-13 01:46:16 (10.1 MB/s) - ‘hetrec2011-lastfm-2k.zip’ saved [2589075/2589075]\n",
            "\n",
            "Archive:  hetrec2011-lastfm-2k.zip\n",
            "  inflating: user_friends.dat        \n",
            "  inflating: user_taggedartists.dat  \n",
            "  inflating: user_taggedartists-timestamps.dat  \n",
            "  inflating: artists.dat             \n",
            "  inflating: readme.txt              \n",
            "  inflating: tags.dat                \n",
            "  inflating: user_artists.dat        \n"
          ]
        }
      ],
      "source": [
        "!wget https://files.grouplens.org/datasets/hetrec2011/hetrec2011-lastfm-2k.zip\n",
        "!unzip hetrec2011-lastfm-2k.zip"
      ]
    },
    {
      "cell_type": "code",
      "source": [
        "artists = {}\n",
        "\n",
        "with open('artists.dat', 'r') as f:\n",
        "    print(f.readline())\n",
        "    for line in f:\n",
        "        id, name, _, _ = line.split('\\t')\n",
        "        artists[int(id)] = name"
      ],
      "metadata": {
        "colab": {
          "base_uri": "https://localhost:8080/"
        },
        "id": "MMJCpta1IhmT",
        "outputId": "81c9584a-0393-4b0f-8767-5f66e8cdb052"
      },
      "execution_count": null,
      "outputs": [
        {
          "output_type": "stream",
          "name": "stdout",
          "text": [
            "id\tname\turl\tpictureURL\n",
            "\n"
          ]
        }
      ]
    },
    {
      "cell_type": "code",
      "source": [
        "!head user_artists.dat"
      ],
      "metadata": {
        "colab": {
          "base_uri": "https://localhost:8080/"
        },
        "id": "Rdv8Jm_VKdq0",
        "outputId": "877dedb5-54b4-45d2-88b6-b0359c14e26f"
      },
      "execution_count": null,
      "outputs": [
        {
          "output_type": "stream",
          "name": "stdout",
          "text": [
            "userID\tartistID\tweight\r\n",
            "2\t51\t13883\r\n",
            "2\t52\t11690\r\n",
            "2\t53\t11351\r\n",
            "2\t54\t10300\r\n",
            "2\t55\t8983\r\n",
            "2\t56\t6152\r\n",
            "2\t57\t5955\r\n",
            "2\t58\t4616\r\n",
            "2\t59\t4337\r\n"
          ]
        }
      ]
    },
    {
      "cell_type": "code",
      "source": [
        "import numpy as np\n",
        "\n",
        "users = []\n",
        "items = []\n",
        "counts = []\n",
        "\n",
        "with open('user_artists.dat', 'r') as f:\n",
        "    print(f.readline())\n",
        "    for line in f:\n",
        "        uid, mid, count = line.split('\\t')\n",
        "\n",
        "        users.append(int(uid))\n",
        "        items.append(int(mid))\n",
        "        counts.append(np.log(1+float(count)))\n",
        "\n",
        "users = np.array(users, dtype=np.int32)\n",
        "items = np.array(items, dtype=np.int32)\n",
        "counts = np.array(counts)"
      ],
      "metadata": {
        "colab": {
          "base_uri": "https://localhost:8080/"
        },
        "id": "IQDrxzk4JMnR",
        "outputId": "c4aa8a18-1aa2-46c6-a8f3-95e2a9ea6aa8"
      },
      "execution_count": null,
      "outputs": [
        {
          "output_type": "stream",
          "name": "stdout",
          "text": [
            "userID\tartistID\tweight\n",
            "\n"
          ]
        }
      ]
    },
    {
      "cell_type": "code",
      "source": [
        "from sklearn.linear_model import ElasticNet"
      ],
      "metadata": {
        "id": "H6_H0-JVM0PC"
      },
      "execution_count": null,
      "outputs": []
    },
    {
      "cell_type": "code",
      "source": [
        "from scipy.sparse import csc_matrix\n",
        "from tqdm import tqdm\n",
        "\n",
        "n_items = max(items) + 1\n",
        "train = csc_matrix((counts, (users, items)))\n",
        "model = ElasticNet(alpha=0.1, l1_ratio=0.5, positive=True, fit_intercept=False, copy_X=False, selection='random', tol=1e-6, max_iter=100)\n",
        "\n",
        "rows, cols, data = [], [], []\n",
        "for current_item in tqdm(range(n_items)):\n",
        "\n",
        "    y = train[:,current_item].toarray()\n",
        "    if all(y==0): continue\n",
        "\n",
        "    s = train.indptr[current_item]\n",
        "    e = train.indptr[current_item+1]\n",
        "    backup = train.data[s:e].copy()\n",
        "    train.data[s:e] = 0.0\n",
        "\n",
        "    model.fit(train, y)\n",
        "\n",
        "    rows.extend(model.sparse_coef_.indices)\n",
        "    cols.extend([current_item] * model.sparse_coef_.getnnz())\n",
        "    data.extend(model.sparse_coef_.data)\n",
        "\n",
        "    train.data[s:e] = backup\n",
        "\n",
        "W = csc_matrix((data, (rows, cols)), shape=(n_items, n_items))"
      ],
      "metadata": {
        "colab": {
          "base_uri": "https://localhost:8080/"
        },
        "id": "pUet1FIrNngq",
        "outputId": "3f430fec-6e25-4084-8db4-cf054938d69c"
      },
      "execution_count": null,
      "outputs": [
        {
          "output_type": "stream",
          "name": "stderr",
          "text": [
            "100%|██████████| 18746/18746 [03:36<00:00, 86.47it/s] \n"
          ]
        }
      ]
    },
    {
      "cell_type": "code",
      "source": [
        "#1918 동방신기\n",
        "#2117 시크릿\n",
        "#2094 BoA\n",
        "#1904 SHINee\n",
        "#227 The Beatles\n",
        "\n",
        "q = 1918\n",
        "\n",
        "s = W.indptr[q]\n",
        "e = W.indptr[q+1]\n",
        "scores = W.data[s:e]\n",
        "ids = W.indices[s:e]\n",
        "ids_sorted = ids[scores.argsort()[::-1]]\n",
        "\n",
        "print(f\"[{artists[q]}]와 유사한 artists:\")\n",
        "\n",
        "for id in ids_sorted:\n",
        "    print(f\"- {artists[id]}\")\n"
      ],
      "metadata": {
        "colab": {
          "base_uri": "https://localhost:8080/",
          "height": 219
        },
        "id": "Pm7nnOPvQy-6",
        "outputId": "7b3f00e3-9a94-477a-9a62-03f8c6b8557f"
      },
      "execution_count": null,
      "outputs": [
        {
          "output_type": "error",
          "ename": "NameError",
          "evalue": "name 'W' is not defined",
          "traceback": [
            "\u001b[0;31m---------------------------------------------------------------------------\u001b[0m",
            "\u001b[0;31mNameError\u001b[0m                                 Traceback (most recent call last)",
            "\u001b[0;32m<ipython-input-1-d7330eb5dc76>\u001b[0m in \u001b[0;36m<cell line: 9>\u001b[0;34m()\u001b[0m\n\u001b[1;32m      7\u001b[0m \u001b[0mq\u001b[0m \u001b[0;34m=\u001b[0m \u001b[0;36m1918\u001b[0m\u001b[0;34m\u001b[0m\u001b[0;34m\u001b[0m\u001b[0m\n\u001b[1;32m      8\u001b[0m \u001b[0;34m\u001b[0m\u001b[0m\n\u001b[0;32m----> 9\u001b[0;31m \u001b[0ms\u001b[0m \u001b[0;34m=\u001b[0m \u001b[0mW\u001b[0m\u001b[0;34m.\u001b[0m\u001b[0mindptr\u001b[0m\u001b[0;34m[\u001b[0m\u001b[0mq\u001b[0m\u001b[0;34m]\u001b[0m\u001b[0;34m\u001b[0m\u001b[0;34m\u001b[0m\u001b[0m\n\u001b[0m\u001b[1;32m     10\u001b[0m \u001b[0me\u001b[0m \u001b[0;34m=\u001b[0m \u001b[0mW\u001b[0m\u001b[0;34m.\u001b[0m\u001b[0mindptr\u001b[0m\u001b[0;34m[\u001b[0m\u001b[0mq\u001b[0m\u001b[0;34m+\u001b[0m\u001b[0;36m1\u001b[0m\u001b[0;34m]\u001b[0m\u001b[0;34m\u001b[0m\u001b[0;34m\u001b[0m\u001b[0m\n\u001b[1;32m     11\u001b[0m \u001b[0mscores\u001b[0m \u001b[0;34m=\u001b[0m \u001b[0mW\u001b[0m\u001b[0;34m.\u001b[0m\u001b[0mdata\u001b[0m\u001b[0;34m[\u001b[0m\u001b[0ms\u001b[0m\u001b[0;34m:\u001b[0m\u001b[0me\u001b[0m\u001b[0;34m]\u001b[0m\u001b[0;34m\u001b[0m\u001b[0;34m\u001b[0m\u001b[0m\n",
            "\u001b[0;31mNameError\u001b[0m: name 'W' is not defined"
          ]
        }
      ]
    },
    {
      "cell_type": "code",
      "source": [
        "# 312 한국인\n",
        "# 43 외국인?\n",
        "uid = 312\n",
        "user_counts = train[uid,:].tocsr()\n",
        "scores = user_counts.dot(W)\n",
        "order = scores.data.argsort()[::-1]\n",
        "\n",
        "k = 10\n",
        "\n",
        "for o in order:\n",
        "    artist_id = scores.indices[o]\n",
        "    score = scores.data[o]\n",
        "    if artist_id not in user_counts.indices:\n",
        "        print(artist_id, artists[artist_id], score)\n",
        "        k -= 1\n",
        "\n",
        "    if k == 0: break"
      ],
      "metadata": {
        "id": "Du5GQPrgBWaP"
      },
      "execution_count": null,
      "outputs": []
    }
  ]
}